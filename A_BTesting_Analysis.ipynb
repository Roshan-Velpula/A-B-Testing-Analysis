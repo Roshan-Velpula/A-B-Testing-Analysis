{
  "cells": [
    {
      "cell_type": "markdown",
      "metadata": {
        "id": "view-in-github",
        "colab_type": "text"
      },
      "source": [
        "<a href=\"https://colab.research.google.com/github/Roshan-Velpula/A-B-Testing-Analysis/blob/main/A_BTesting_Analysis.ipynb\" target=\"_parent\"><img src=\"https://colab.research.google.com/assets/colab-badge.svg\" alt=\"Open In Colab\"/></a>"
      ]
    },
    {
      "metadata": {
        "dc": {
          "key": "3"
        },
        "deletable": false,
        "editable": false,
        "run_control": {
          "frozen": true
        },
        "tags": [
          "context"
        ],
        "id": "CSS6r8fvMidI"
      },
      "cell_type": "markdown",
      "source": [
        "## 1. Of cats and cookies\n",
        "<p><a href=\"https://www.facebook.com/cookiecatsgame\">Cookie Cats</a> is a hugely popular mobile puzzle game developed by <a href=\"http://tactile.dk\">Tactile Entertainment</a>. It's a classic \"connect three\"-style puzzle game where the player must connect tiles of the same color to clear the board and win the level.\n",
        "\n",
        "<p>As players progress through the levels of the game, they will occasionally encounter gates that force them to wait a non-trivial amount of time or make an in-app purchase to progress. In addition to driving in-app purchases, these gates serve the important purpose of giving players an enforced break from playing the game, hopefully resulting in that the player's enjoyment of the game being increased and prolonged.</p>\n",
        "\n",
        "<p>But where should the gates be placed? Initially the first gate was placed at level 30, but in this notebook we're going to analyze an AB-test where we moved the first gate in Cookie Cats from level 30 to level 40. In particular, we will look at the impact on player retention. But before we get to that, a key step before undertaking any analysis is understanding the data. So let's load it in and take a look!</p>"
      ]
    },
    {
      "metadata": {
        "dc": {
          "key": "3"
        },
        "tags": [
          "sample_code"
        ],
        "trusted": true,
        "colab": {
          "base_uri": "https://localhost:8080/",
          "height": 363
        },
        "id": "6_QQFORvMidK",
        "outputId": "f8955c6d-3120-4016-815b-14b08953d6c9"
      },
      "cell_type": "code",
      "source": [
        "# Importing pandas\n",
        "import pandas as pd\n",
        "df = pd.read_csv('/cookie_cats.csv')\n",
        "df.head(10)\n",
        "\n",
        "# Showing the first few rows\n"
      ],
      "execution_count": 2,
      "outputs": [
        {
          "output_type": "execute_result",
          "data": {
            "text/plain": [
              "   userid  version  sum_gamerounds  retention_1  retention_7\n",
              "0     116  gate_30               3        False        False\n",
              "1     337  gate_30              38         True        False\n",
              "2     377  gate_40             165         True        False\n",
              "3     483  gate_40               1        False        False\n",
              "4     488  gate_40             179         True         True\n",
              "5     540  gate_40             187         True         True\n",
              "6    1066  gate_30               0        False        False\n",
              "7    1444  gate_40               2        False        False\n",
              "8    1574  gate_40             108         True         True\n",
              "9    1587  gate_40             153         True        False"
            ],
            "text/html": [
              "\n",
              "  <div id=\"df-4fa29e10-7caa-4cb9-affd-c31c68d14ca0\">\n",
              "    <div class=\"colab-df-container\">\n",
              "      <div>\n",
              "<style scoped>\n",
              "    .dataframe tbody tr th:only-of-type {\n",
              "        vertical-align: middle;\n",
              "    }\n",
              "\n",
              "    .dataframe tbody tr th {\n",
              "        vertical-align: top;\n",
              "    }\n",
              "\n",
              "    .dataframe thead th {\n",
              "        text-align: right;\n",
              "    }\n",
              "</style>\n",
              "<table border=\"1\" class=\"dataframe\">\n",
              "  <thead>\n",
              "    <tr style=\"text-align: right;\">\n",
              "      <th></th>\n",
              "      <th>userid</th>\n",
              "      <th>version</th>\n",
              "      <th>sum_gamerounds</th>\n",
              "      <th>retention_1</th>\n",
              "      <th>retention_7</th>\n",
              "    </tr>\n",
              "  </thead>\n",
              "  <tbody>\n",
              "    <tr>\n",
              "      <th>0</th>\n",
              "      <td>116</td>\n",
              "      <td>gate_30</td>\n",
              "      <td>3</td>\n",
              "      <td>False</td>\n",
              "      <td>False</td>\n",
              "    </tr>\n",
              "    <tr>\n",
              "      <th>1</th>\n",
              "      <td>337</td>\n",
              "      <td>gate_30</td>\n",
              "      <td>38</td>\n",
              "      <td>True</td>\n",
              "      <td>False</td>\n",
              "    </tr>\n",
              "    <tr>\n",
              "      <th>2</th>\n",
              "      <td>377</td>\n",
              "      <td>gate_40</td>\n",
              "      <td>165</td>\n",
              "      <td>True</td>\n",
              "      <td>False</td>\n",
              "    </tr>\n",
              "    <tr>\n",
              "      <th>3</th>\n",
              "      <td>483</td>\n",
              "      <td>gate_40</td>\n",
              "      <td>1</td>\n",
              "      <td>False</td>\n",
              "      <td>False</td>\n",
              "    </tr>\n",
              "    <tr>\n",
              "      <th>4</th>\n",
              "      <td>488</td>\n",
              "      <td>gate_40</td>\n",
              "      <td>179</td>\n",
              "      <td>True</td>\n",
              "      <td>True</td>\n",
              "    </tr>\n",
              "    <tr>\n",
              "      <th>5</th>\n",
              "      <td>540</td>\n",
              "      <td>gate_40</td>\n",
              "      <td>187</td>\n",
              "      <td>True</td>\n",
              "      <td>True</td>\n",
              "    </tr>\n",
              "    <tr>\n",
              "      <th>6</th>\n",
              "      <td>1066</td>\n",
              "      <td>gate_30</td>\n",
              "      <td>0</td>\n",
              "      <td>False</td>\n",
              "      <td>False</td>\n",
              "    </tr>\n",
              "    <tr>\n",
              "      <th>7</th>\n",
              "      <td>1444</td>\n",
              "      <td>gate_40</td>\n",
              "      <td>2</td>\n",
              "      <td>False</td>\n",
              "      <td>False</td>\n",
              "    </tr>\n",
              "    <tr>\n",
              "      <th>8</th>\n",
              "      <td>1574</td>\n",
              "      <td>gate_40</td>\n",
              "      <td>108</td>\n",
              "      <td>True</td>\n",
              "      <td>True</td>\n",
              "    </tr>\n",
              "    <tr>\n",
              "      <th>9</th>\n",
              "      <td>1587</td>\n",
              "      <td>gate_40</td>\n",
              "      <td>153</td>\n",
              "      <td>True</td>\n",
              "      <td>False</td>\n",
              "    </tr>\n",
              "  </tbody>\n",
              "</table>\n",
              "</div>\n",
              "      <button class=\"colab-df-convert\" onclick=\"convertToInteractive('df-4fa29e10-7caa-4cb9-affd-c31c68d14ca0')\"\n",
              "              title=\"Convert this dataframe to an interactive table.\"\n",
              "              style=\"display:none;\">\n",
              "        \n",
              "  <svg xmlns=\"http://www.w3.org/2000/svg\" height=\"24px\"viewBox=\"0 0 24 24\"\n",
              "       width=\"24px\">\n",
              "    <path d=\"M0 0h24v24H0V0z\" fill=\"none\"/>\n",
              "    <path d=\"M18.56 5.44l.94 2.06.94-2.06 2.06-.94-2.06-.94-.94-2.06-.94 2.06-2.06.94zm-11 1L8.5 8.5l.94-2.06 2.06-.94-2.06-.94L8.5 2.5l-.94 2.06-2.06.94zm10 10l.94 2.06.94-2.06 2.06-.94-2.06-.94-.94-2.06-.94 2.06-2.06.94z\"/><path d=\"M17.41 7.96l-1.37-1.37c-.4-.4-.92-.59-1.43-.59-.52 0-1.04.2-1.43.59L10.3 9.45l-7.72 7.72c-.78.78-.78 2.05 0 2.83L4 21.41c.39.39.9.59 1.41.59.51 0 1.02-.2 1.41-.59l7.78-7.78 2.81-2.81c.8-.78.8-2.07 0-2.86zM5.41 20L4 18.59l7.72-7.72 1.47 1.35L5.41 20z\"/>\n",
              "  </svg>\n",
              "      </button>\n",
              "      \n",
              "  <style>\n",
              "    .colab-df-container {\n",
              "      display:flex;\n",
              "      flex-wrap:wrap;\n",
              "      gap: 12px;\n",
              "    }\n",
              "\n",
              "    .colab-df-convert {\n",
              "      background-color: #E8F0FE;\n",
              "      border: none;\n",
              "      border-radius: 50%;\n",
              "      cursor: pointer;\n",
              "      display: none;\n",
              "      fill: #1967D2;\n",
              "      height: 32px;\n",
              "      padding: 0 0 0 0;\n",
              "      width: 32px;\n",
              "    }\n",
              "\n",
              "    .colab-df-convert:hover {\n",
              "      background-color: #E2EBFA;\n",
              "      box-shadow: 0px 1px 2px rgba(60, 64, 67, 0.3), 0px 1px 3px 1px rgba(60, 64, 67, 0.15);\n",
              "      fill: #174EA6;\n",
              "    }\n",
              "\n",
              "    [theme=dark] .colab-df-convert {\n",
              "      background-color: #3B4455;\n",
              "      fill: #D2E3FC;\n",
              "    }\n",
              "\n",
              "    [theme=dark] .colab-df-convert:hover {\n",
              "      background-color: #434B5C;\n",
              "      box-shadow: 0px 1px 3px 1px rgba(0, 0, 0, 0.15);\n",
              "      filter: drop-shadow(0px 1px 2px rgba(0, 0, 0, 0.3));\n",
              "      fill: #FFFFFF;\n",
              "    }\n",
              "  </style>\n",
              "\n",
              "      <script>\n",
              "        const buttonEl =\n",
              "          document.querySelector('#df-4fa29e10-7caa-4cb9-affd-c31c68d14ca0 button.colab-df-convert');\n",
              "        buttonEl.style.display =\n",
              "          google.colab.kernel.accessAllowed ? 'block' : 'none';\n",
              "\n",
              "        async function convertToInteractive(key) {\n",
              "          const element = document.querySelector('#df-4fa29e10-7caa-4cb9-affd-c31c68d14ca0');\n",
              "          const dataTable =\n",
              "            await google.colab.kernel.invokeFunction('convertToInteractive',\n",
              "                                                     [key], {});\n",
              "          if (!dataTable) return;\n",
              "\n",
              "          const docLinkHtml = 'Like what you see? Visit the ' +\n",
              "            '<a target=\"_blank\" href=https://colab.research.google.com/notebooks/data_table.ipynb>data table notebook</a>'\n",
              "            + ' to learn more about interactive tables.';\n",
              "          element.innerHTML = '';\n",
              "          dataTable['output_type'] = 'display_data';\n",
              "          await google.colab.output.renderOutput(dataTable, element);\n",
              "          const docLink = document.createElement('div');\n",
              "          docLink.innerHTML = docLinkHtml;\n",
              "          element.appendChild(docLink);\n",
              "        }\n",
              "      </script>\n",
              "    </div>\n",
              "  </div>\n",
              "  "
            ]
          },
          "metadata": {},
          "execution_count": 2
        }
      ]
    },
    {
      "metadata": {
        "dc": {
          "key": "10"
        },
        "deletable": false,
        "editable": false,
        "run_control": {
          "frozen": true
        },
        "tags": [
          "context"
        ],
        "id": "GIh9txcYMidL"
      },
      "cell_type": "markdown",
      "source": [
        "## 2. The AB-test data\n",
        "<p>The data we have is from 90,189 players that installed the game while the AB-test was running. The variables are:</p>\n",
        "<ul>\n",
        "<li><code>userid</code> - a unique number that identifies each player.</li>\n",
        "<li><code>version</code> - whether the player was put in the control group (<code>gate_30</code> - a gate at level 30) or the group with the moved gate (<code>gate_40</code> - a gate at level 40).</li>\n",
        "<li><code>sum_gamerounds</code> - the number of game rounds played by the player during the first 14 days after install.</li>\n",
        "<li><code>retention_1</code> - did the player come back and play <strong>1 day</strong> after installing?</li>\n",
        "<li><code>retention_7</code> - did the player come back and play <strong>7 days</strong> after installing?</li>\n",
        "</ul>\n",
        "<p>When a player installed the game, he or she was randomly assigned to either <code>gate_30</code> or <code>gate_40</code>. As a sanity check, let's see if there are roughly the same number of players in each AB group. </p>"
      ]
    },
    {
      "metadata": {
        "dc": {
          "key": "10"
        },
        "tags": [
          "sample_code"
        ],
        "trusted": true,
        "colab": {
          "base_uri": "https://localhost:8080/"
        },
        "id": "Wq-6T7-zMidM",
        "outputId": "1725dbcd-1a46-474a-a37b-b3ab5b4b7723"
      },
      "cell_type": "code",
      "source": [
        "# Counting the number of players in each AB group.\n",
        "grouped_counts = df.groupby('version').size()\n",
        "print(grouped_counts)"
      ],
      "execution_count": 3,
      "outputs": [
        {
          "output_type": "stream",
          "name": "stdout",
          "text": [
            "version\n",
            "gate_30    44700\n",
            "gate_40    45489\n",
            "dtype: int64\n"
          ]
        }
      ]
    },
    {
      "metadata": {
        "dc": {
          "key": "17"
        },
        "deletable": false,
        "editable": false,
        "run_control": {
          "frozen": true
        },
        "tags": [
          "context"
        ],
        "id": "oK4exjvbMidM"
      },
      "cell_type": "markdown",
      "source": [
        "## 3. The distribution of game rounds\n",
        "\n",
        "<p>It looks like there is roughly the same number of players in each group, nice!</p>\n",
        "<p>The focus of this analysis will be on how the gate placement affects player retention, but just for fun: Let's plot the distribution of the number of game rounds players played during their first week playing the game.</p>"
      ]
    },
    {
      "metadata": {
        "dc": {
          "key": "17"
        },
        "tags": [
          "sample_code"
        ],
        "trusted": true,
        "colab": {
          "base_uri": "https://localhost:8080/",
          "height": 467
        },
        "id": "95ll5ZlFMidM",
        "outputId": "2e8625cf-80c5-4f37-838a-811449f2a215"
      },
      "cell_type": "code",
      "source": [
        "# This command makes plots appear in the notebook\n",
        "%matplotlib inline\n",
        "\n",
        "# Counting the number of players for each number of gamerounds\n",
        "#df[df['retention_1'] == True]\n",
        "\n",
        "plot_df = df.groupby('sum_gamerounds')['userid'].count()\n",
        "\n",
        "\n",
        "# Plotting the distribution of players that played 0 to 100 game rounds\n",
        "ax = plot_df.iloc[:100].plot(kind = 'hist' , x = 'sum_gamerounds', y = '#users')\n",
        "ax.set_xlabel(\"sum_gamerounds\")\n",
        "ax.set_ylabel(\"#users\")"
      ],
      "execution_count": 4,
      "outputs": [
        {
          "output_type": "execute_result",
          "data": {
            "text/plain": [
              "Text(0, 0.5, '#users')"
            ]
          },
          "metadata": {},
          "execution_count": 4
        },
        {
          "output_type": "display_data",
          "data": {
            "text/plain": [
              "<Figure size 640x480 with 1 Axes>"
            ],
            "image/png": "[encoded data removed]"
          },
          "metadata": {}
        }
      ]
    },
    {
      "metadata": {
        "dc": {
          "key": "24"
        },
        "deletable": false,
        "editable": false,
        "run_control": {
          "frozen": true
        },
        "tags": [
          "context"
        ],
        "id": "K_qHwaUVMidM"
      },
      "cell_type": "markdown",
      "source": [
        "## 4. Overall 1-day retention\n",
        "<p>In the plot above we can see that some players install the game but then never play it (0 game rounds), some players just play a couple of game rounds in their first week, and some get really hooked!</p>\n",
        "<p>What we want is for players to like the game and to get hooked. A common metric in the video gaming industry for how fun and engaging a game is <em>1-day retention</em>: The percentage of players that comes back and plays the game <em>one day</em> after they have installed it.  The higher 1-day retention is, the easier it is to retain players and build a large player base. </p>\n",
        "<p>As a first step, let's look at what 1-day retention is overall.</p>"
      ]
    },
    {
      "metadata": {
        "dc": {
          "key": "24"
        },
        "tags": [
          "sample_code"
        ],
        "trusted": true,
        "colab": {
          "base_uri": "https://localhost:8080/"
        },
        "id": "Hq6-KSDOMidM",
        "outputId": "9e485eeb-f15c-41e4-9d47-1380fc176094"
      },
      "cell_type": "code",
      "source": [
        "# The % of users that came back the day after they installed\n",
        "\n",
        "#retention_1_day = df[df['retention_1'] == True]['userid'].count() / df['userid'].count() * 100\n",
        "#print(f\"% of 1 day retention is: {retention_1_day}\")\n",
        "print(df['retention_1'].mean() * 100)"
      ],
      "execution_count": 5,
      "outputs": [
        {
          "output_type": "stream",
          "name": "stdout",
          "text": [
            "44.52095044850259\n"
          ]
        }
      ]
    },
    {
      "metadata": {
        "dc": {
          "key": "31"
        },
        "deletable": false,
        "editable": false,
        "run_control": {
          "frozen": true
        },
        "tags": [
          "context"
        ],
        "id": "an-t0hkxMidN"
      },
      "cell_type": "markdown",
      "source": [
        "## 5. 1-day retention by AB-group\n",
        "\n",
        "<p>So, a little less than half of the players come back one day after installing the game. Now that we have a benchmark, let's look at how 1-day retention differs between the two AB-groups.</p>"
      ]
    },
    {
      "metadata": {
        "dc": {
          "key": "31"
        },
        "tags": [
          "sample_code"
        ],
        "trusted": true,
        "colab": {
          "base_uri": "https://localhost:8080/"
        },
        "id": "4uZypureMidN",
        "outputId": "fe941eff-5a64-4dc0-f1a5-936dea0c337c"
      },
      "cell_type": "code",
      "source": [
        "# Calculating 1-day retention for each AB-group\n",
        "\n",
        "df_retention = df.groupby('version')['retention_1'].mean()*100\n",
        "print(df_retention)"
      ],
      "execution_count": 7,
      "outputs": [
        {
          "output_type": "stream",
          "name": "stdout",
          "text": [
            "version\n",
            "gate_30    44.818792\n",
            "gate_40    44.228275\n",
            "Name: retention_1, dtype: float64\n"
          ]
        }
      ]
    },
    {
      "metadata": {
        "dc": {
          "key": "38"
        },
        "deletable": false,
        "editable": false,
        "run_control": {
          "frozen": true
        },
        "tags": [
          "context"
        ],
        "id": "ajlK_-XlMidN"
      },
      "cell_type": "markdown",
      "source": [
        "## 6. Should we be confident in the difference?\n",
        "<p>It appears that there was a slight decrease in 1-day retention when the gate was moved to level 40 (44.2%) compared to the control when it was at level 30 (44.8%). It's a small change, but even small changes in retention can have a large impact. But while we are certain of the difference in the data, how certain should we be that a gate at level 40 will be worse in the future?</p>\n",
        "<p>There are a couple of ways we can get at the certainty of these retention numbers. Here we will use bootstrapping: We will repeatedly re-sample our dataset (with replacement) and calculate 1-day retention for those samples. The variation in 1-day retention will give us an indication of how uncertain the retention numbers are.</p>"
      ]
    },
    {
      "metadata": {
        "dc": {
          "key": "38"
        },
        "tags": [
          "sample_code"
        ],
        "trusted": true,
        "colab": {
          "base_uri": "https://localhost:8080/",
          "height": 489
        },
        "id": "rWhO0jXUMidN",
        "outputId": "78d13587-7047-4772-9e91-f46928605028"
      },
      "cell_type": "code",
      "source": [
        "# Creating an list with bootstrapped means for each AB-group\n",
        "boot_1d = []\n",
        "for i in range(500):\n",
        "    boot_mean = df.sample(frac = 1, replace = True).groupby('version')['retention_1'].mean()*100\n",
        "    boot_1d.append(boot_mean)\n",
        "    \n",
        "# Transforming the list to a DataFrame\n",
        "boot_1d = pd.DataFrame(boot_1d)\n",
        "# A Kernel Density Estimate plot of the bootstrap distributions\n",
        "ax = boot_1d.plot.kde()\n",
        "ax.set_title('Kernel Density Plot of Bootstrapped Means')\n",
        "ax.set_xlabel('1-Day Retention (%)')\n",
        "    \n"
      ],
      "execution_count": 8,
      "outputs": [
        {
          "output_type": "execute_result",
          "data": {
            "text/plain": [
              "Text(0.5, 0, '1-Day Retention (%)')"
            ]
          },
          "metadata": {},
          "execution_count": 8
        },
        {
          "output_type": "display_data",
          "data": {
            "text/plain": [
              "<Figure size 640x480 with 1 Axes>"
            ],
            "image/png": "[encoded data removed]"
          },
          "metadata": {}
        }
      ]
    },
    {
      "metadata": {
        "dc": {
          "key": "46"
        },
        "deletable": false,
        "editable": false,
        "run_control": {
          "frozen": true
        },
        "tags": [
          "context"
        ],
        "id": "b2I6VyOXMidN"
      },
      "cell_type": "markdown",
      "source": [
        "## 7. Zooming in on the difference\n",
        "<p>These two distributions above represent the bootstrap uncertainty over what the underlying 1-day retention could be for the two AB-groups. Just eyeballing this plot, we can see that there seems to be some evidence of a difference, albeit small. Let's zoom in on the difference in 1-day retention</p>\n",
        "<p>(<em>Note that in this notebook we have limited the number of bootstrap replication to 500 to keep the calculations quick. In \"production\" we would likely increase this to a much larger number, say, 10 000.</em>)</p>"
      ]
    },
    {
      "metadata": {
        "dc": {
          "key": "46"
        },
        "tags": [
          "sample_code"
        ],
        "trusted": true,
        "colab": {
          "base_uri": "https://localhost:8080/",
          "height": 430
        },
        "id": "0TAsC8DBMidO",
        "outputId": "015f2541-da7e-4ed6-ce62-42b391367d6c"
      },
      "cell_type": "code",
      "source": [
        "# Adding a column with the % difference between the two AB-groups\n",
        "boot_1d['diff'] = (((boot_1d['gate_30'] - boot_1d['gate_40']) / boot_1d['gate_40'] )*100)\n",
        "#boot_1d.head()\n",
        "# Ploting the bootstrap % difference\n",
        "ax = boot_1d['diff'].plot.kde()\n"
      ],
      "execution_count": 9,
      "outputs": [
        {
          "output_type": "display_data",
          "data": {
            "text/plain": [
              "<Figure size 640x480 with 1 Axes>"
            ],
            "image/png": "[encoded data removed]"
          },
          "metadata": {}
        }
      ]
    },
    {
      "metadata": {
        "dc": {
          "key": "53"
        },
        "deletable": false,
        "editable": false,
        "run_control": {
          "frozen": true
        },
        "tags": [
          "context"
        ],
        "id": "B2P-PPzuMidO"
      },
      "cell_type": "markdown",
      "source": [
        "## 8. The probability of a difference\n",
        "\n",
        "<p>From this chart, we can see that the most likely % difference is around 1% - 2%, and that most of the distribution is above 0%, in favor of a gate at level 30. But what is the <em>probability</em> that the difference is above 0%? Let's calculate that as well.</p>"
      ]
    },
    {
      "metadata": {
        "dc": {
          "key": "53"
        },
        "tags": [
          "sample_code"
        ],
        "trusted": true,
        "colab": {
          "base_uri": "https://localhost:8080/"
        },
        "id": "pOUi8lCVMidO",
        "outputId": "171948d7-7258-432c-e10b-0795dddd0d5b"
      },
      "cell_type": "code",
      "source": [
        "# Calculating the probability that 1-day retention is greater when the gate is at level 30\n",
        "prob = (boot_1d['diff'] > 0).sum()/ boot_1d['diff'].count()\n",
        "\n",
        "print(\"{:.2f}%\".format(prob*100))"
      ],
      "execution_count": 10,
      "outputs": [
        {
          "output_type": "stream",
          "name": "stdout",
          "text": [
            "96.40%\n"
          ]
        }
      ]
    },
    {
      "metadata": {
        "dc": {
          "key": "60"
        },
        "deletable": false,
        "editable": false,
        "run_control": {
          "frozen": true
        },
        "tags": [
          "context"
        ],
        "id": "DijtRy9WMidO"
      },
      "cell_type": "markdown",
      "source": [
        "## 9. 7-day retention by AB-group\n",
        "<p>The bootstrap analysis tells us that there is a high probability that 1-day retention is better when the gate is at level 30. However, since players have only been playing the game for one day, it is likely that most players haven't reached level 30 yet. That is, many players won't have been affected by the gate, even if it's as early as level 30. </p>\n",
        "<p>But after having played for a week, more players should have reached level 40, and therefore it makes sense to also look at 7-day retention. That is: What percentage of the people that installed the game also showed up a week later to play the game again.</p>\n",
        "<p>Let's start by calculating 7-day retention for the two AB-groups.</p>"
      ]
    },
    {
      "metadata": {
        "dc": {
          "key": "60"
        },
        "tags": [
          "sample_code"
        ],
        "trusted": true,
        "colab": {
          "base_uri": "https://localhost:8080/"
        },
        "id": "75ijCi0TMidP",
        "outputId": "d97e6e62-5e08-4f4d-a37c-ed29105d7862"
      },
      "cell_type": "code",
      "source": [
        "# Calculating 7-day retention for both AB-groups\n",
        "#df.head()\n",
        "df.groupby('version')['retention_7'].mean()*100"
      ],
      "execution_count": 11,
      "outputs": [
        {
          "output_type": "execute_result",
          "data": {
            "text/plain": [
              "version\n",
              "gate_30    19.020134\n",
              "gate_40    18.200004\n",
              "Name: retention_7, dtype: float64"
            ]
          },
          "metadata": {},
          "execution_count": 11
        }
      ]
    },
    {
      "metadata": {
        "dc": {
          "key": "67"
        },
        "deletable": false,
        "editable": false,
        "run_control": {
          "frozen": true
        },
        "tags": [
          "context"
        ],
        "id": "Y4veB2oxMidP"
      },
      "cell_type": "markdown",
      "source": [
        "## 10. Bootstrapping the difference again\n",
        "<p>Like with 1-day retention, we see that 7-day retention is slightly lower (18.2%) when the gate is at level 40 than when the gate is at level 30 (19.0%). This difference is also larger than for 1-day retention, presumably because more players have had time to hit the first gate. We also see that the <em>overall</em> 7-day retention is lower than the <em>overall</em> 1-day retention; fewer people play a game a week after installing than a day after installing.</p>\n",
        "<p>But as before, let's use bootstrap analysis to figure out how certain we should be of the difference between the AB-groups.</p>"
      ]
    },
    {
      "metadata": {
        "dc": {
          "key": "67"
        },
        "tags": [
          "sample_code"
        ],
        "trusted": true,
        "colab": {
          "base_uri": "https://localhost:8080/",
          "height": 466
        },
        "id": "UJ2snI2AMidP",
        "outputId": "59021fc6-2953-45e4-c647-9102bf2daf76"
      },
      "cell_type": "code",
      "source": [
        "# Creating a list with bootstrapped means for each AB-group\n",
        "boot_7d = []\n",
        "for i in range(500):\n",
        "    boot_mean = df.sample(frac = 1, replace = True).groupby('version')['retention_7'].mean()\n",
        "    boot_7d.append(boot_mean)\n",
        "    \n",
        "# Transforming the list to a DataFrame\n",
        "\n",
        "boot_7d = pd.DataFrame(boot_7d)\n",
        "\n",
        "# Adding a column with the % difference between the two AB-groups\n",
        "boot_7d['diff'] = (((boot_7d['gate_30'] - boot_7d['gate_40'])/ boot_7d['gate_40']) *100)\n",
        "\n",
        "# Ploting the bootstrap % difference\n",
        "ax = boot_7d['diff'].plot.kde()\n",
        "ax.set_xlabel(\"% difference in means\")\n",
        "\n",
        "# Calculating the probability that 7-day retention is greater when the gate is at level 30\n",
        "prob = (boot_7d['diff'] > 0 ).sum() / (boot_7d)['diff'].count()\n",
        "\n",
        "print(\"{:.2f}%\".format(prob*100))"
      ],
      "execution_count": 12,
      "outputs": [
        {
          "output_type": "stream",
          "name": "stdout",
          "text": [
            "100.00%\n"
          ]
        },
        {
          "output_type": "display_data",
          "data": {
            "text/plain": [
              "<Figure size 640x480 with 1 Axes>"
            ],
            "image/png": "[encoded data removed]"
          },
          "metadata": {}
        }
      ]
    },
    {
      "metadata": {
        "dc": {
          "key": "74"
        },
        "deletable": false,
        "editable": false,
        "run_control": {
          "frozen": true
        },
        "tags": [
          "context"
        ],
        "id": "TPGe9qOpMidP"
      },
      "cell_type": "markdown",
      "source": [
        "## 11.  The conclusion\n",
        "<p>The bootstrap result tells us that there is strong evidence that 7-day retention is higher when the gate is at level 30 than when it is at level 40. The conclusion is: If we want to keep retention high — both 1-day and 7-day retention — we should <strong>not</strong> move the gate from level 30 to level 40. There are, of course, other metrics we could look at, like the number of game rounds played or how much in-game purchases are made by the two AB-groups. But retention <em>is</em> one of the most important metrics. If we don't retain our player base, it doesn't matter how much money they spend in-game.</p>\n",
        "\n",
        "<p>So, why is retention higher when the gate is positioned earlier? One could expect the opposite: The later the obstacle, the longer people are going to engage with the game. But this is not what the data tells us. The theory of <em>hedonic adaptation</em> can give one explanation for this. In short, hedonic adaptation is the tendency for people to get less and less enjoyment out of a fun activity over time if that activity is undertaken continuously. By forcing players to take a break when they reach a gate, their enjoyment of the game is prolonged. But when the gate is moved to level 40, fewer players make it far enough, and they are more likely to quit the game because they simply got bored of it. </p>"
      ]
    },
    {
      "metadata": {
        "dc": {
          "key": "74"
        },
        "tags": [
          "sample_code"
        ],
        "collapsed": true,
        "trusted": true,
        "id": "lZemiFyVMidP"
      },
      "cell_type": "code",
      "source": [
        "# So, given the data and the bootstrap analysis\n",
        "# Should we move the gate from level 30 to level 40 ?\n",
        "move_to_level_40 = False"
      ],
      "execution_count": 13,
      "outputs": []
    },
    {
      "cell_type": "code",
      "source": [],
      "metadata": {
        "id": "im7dW3oXOhMM"
      },
      "execution_count": null,
      "outputs": []
    }
  ],
  "metadata": {
    "kernelspec": {
      "name": "python3",
      "display_name": "Python 3",
      "language": "python"
    },
    "language_info": {
      "name": "python",
      "version": "3.6.7",
      "mimetype": "text/x-python",
      "codemirror_mode": {
        "name": "ipython",
        "version": 3
      },
      "pygments_lexer": "ipython3",
      "nbconvert_exporter": "python",
      "file_extension": ".py"
    },
    "colab": {
      "provenance": [],
      "include_colab_link": true
    }
  },
  "nbformat": 4,
  "nbformat_minor": 0
}